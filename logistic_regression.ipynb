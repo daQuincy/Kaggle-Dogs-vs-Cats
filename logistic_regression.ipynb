{
 "cells": [
  {
   "cell_type": "markdown",
   "metadata": {},
   "source": [
    "# Solving Dogs vs Cats using Logistic Regression\n",
    "\n",
    " - Extract features using pre-trained ResNet\n",
    " - Use logistic regression for classification"
   ]
  },
  {
   "cell_type": "markdown",
   "metadata": {},
   "source": [
    "## Feature extraction"
   ]
  },
  {
   "cell_type": "code",
   "execution_count": 1,
   "metadata": {},
   "outputs": [
    {
     "name": "stderr",
     "output_type": "stream",
     "text": [
      "/home/yq/miniconda3/envs/tf/lib/python3.6/importlib/_bootstrap.py:219: RuntimeWarning: numpy.dtype size changed, may indicate binary incompatibility. Expected 96, got 88\n",
      "  return f(*args, **kwds)\n",
      "/home/yq/miniconda3/envs/tf/lib/python3.6/importlib/_bootstrap.py:219: RuntimeWarning: numpy.dtype size changed, may indicate binary incompatibility. Expected 96, got 88\n",
      "  return f(*args, **kwds)\n",
      "Using TensorFlow backend.\n"
     ]
    }
   ],
   "source": [
    "from tensorflow import keras\n",
    "import tensorflow as tf\n",
    "\n",
    "from keras.applications import ResNet50\n",
    "from keras.applications import imagenet_utils\n",
    "from keras.preprocessing.image import load_img\n",
    "from keras.preprocessing.image import img_to_array\n",
    "\n",
    "from sklearn.preprocessing import LabelEncoder\n",
    "from sklearn.model_selection import train_test_split\n",
    "\n",
    "import glob\n",
    "import numpy as np\n",
    "import random\n",
    "import os\n",
    "\n",
    "from tqdm import tqdm"
   ]
  },
  {
   "cell_type": "code",
   "execution_count": 2,
   "metadata": {},
   "outputs": [],
   "source": [
    "paths = glob.glob(\"train/*\")\n",
    "random.shuffle(paths)\n",
    "\n",
    "labels = [os.path.split(x)[-1].split(\".\")[0] for x in paths]\n",
    "\n",
    "le = LabelEncoder()\n",
    "labels = le.fit_transform(labels)\n",
    "labels = labels.reshape((-1, 1))"
   ]
  },
  {
   "cell_type": "code",
   "execution_count": 3,
   "metadata": {},
   "outputs": [
    {
     "name": "stderr",
     "output_type": "stream",
     "text": [
      "/home/yq/miniconda3/envs/tf/lib/python3.6/site-packages/keras_applications/resnet50.py:263: UserWarning: The output shape of `ResNet50(include_top=False)` has been changed since Keras 2.2.0.\n",
      "  warnings.warn('The output shape of `ResNet50(include_top=False)` '\n"
     ]
    },
    {
     "name": "stdout",
     "output_type": "stream",
     "text": [
      "(25000, 100352)\n"
     ]
    }
   ],
   "source": [
    "# load ResNet, excluding the fully-connected layers\n",
    "model = ResNet50(weights=\"imagenet\", include_top=False)\n",
    "\n",
    "features = []\n",
    "BS = 128\n",
    "for i in np.arange(0, len(paths), BS):\n",
    "    pb = paths[i:i+BS]\n",
    "    lb = labels[i:i+BS]\n",
    "    xb = []\n",
    "    \n",
    "    for xx in pb:\n",
    "        img = load_img(xx, target_size=(224, 224))\n",
    "        img = img_to_array(img)\n",
    "        img = np.expand_dims(img, axis=0)\n",
    "        img = imagenet_utils.preprocess_input(img)\n",
    "        xb.append(img)\n",
    "        \n",
    "    X = np.vstack(xb)\n",
    "    feature = model.predict(X, batch_size=BS)\n",
    "    feature = feature.reshape((feature.shape[0], -1))\n",
    "    \n",
    "    features.append(feature)\n",
    "\n",
    "features = np.vstack(features)    \n",
    "print(features.shape)"
   ]
  },
  {
   "cell_type": "markdown",
   "metadata": {},
   "source": [
    "## Logistic Regression"
   ]
  },
  {
   "cell_type": "code",
   "execution_count": 4,
   "metadata": {},
   "outputs": [],
   "source": [
    "class LogisticRegression:\n",
    "    def __init__(self, reg=0.001):\n",
    "        self.X = tf.placeholder(tf.float32, (None, 100352), name=\"X\")\n",
    "        self.y = tf.placeholder(tf.float32, (None, 1), name=\"y\")\n",
    "        C= tf.constant(reg)\n",
    "        \n",
    "        self.logits, self.loss = self.cost_function(self.X, self.y, C)\n",
    "        self.predictions = tf.round(self.logits)\n",
    "        correct_predictions = tf.equal(self.predictions, self.y)\n",
    "        self.accuracy = tf.reduce_mean(tf.cast(correct_predictions, tf.float32))\n",
    "\n",
    "        opt = tf.train.GradientDescentOptimizer(0.001)\n",
    "        self.train_op = opt.minimize(self.loss)\n",
    "        \n",
    "    def cost_function(self, X, y, C):\n",
    "        weights = tf.Variable(tf.zeros(shape=(100352,1)), name=\"theta\")\n",
    "        bias = tf.Variable(tf.zeros(shape=(1)), name=\"bias\")\n",
    "\n",
    "        logits = tf.nn.sigmoid(tf.nn.xw_plus_b(X, weights, bias))\n",
    "\n",
    "        cost = tf.reduce_mean(tf.square(logits - y)) + tf.reduce_mean(C*weights)\n",
    "\n",
    "        return logits, cost"
   ]
  },
  {
   "cell_type": "markdown",
   "metadata": {},
   "source": [
    "### Training the logistic regressor"
   ]
  },
  {
   "cell_type": "code",
   "execution_count": 5,
   "metadata": {},
   "outputs": [],
   "source": [
    "Xtr, Xte, ytr, yte = train_test_split(features, labels, test_size=2500)"
   ]
  },
  {
   "cell_type": "code",
   "execution_count": 6,
   "metadata": {},
   "outputs": [],
   "source": [
    "model = LogisticRegression()\n",
    "\n",
    "saver = tf.train.Saver()\n",
    "init = tf.global_variables_initializer()"
   ]
  },
  {
   "cell_type": "code",
   "execution_count": 7,
   "metadata": {},
   "outputs": [
    {
     "name": "stderr",
     "output_type": "stream",
     "text": [
      "1: 100%|██████████| 175/175 [01:46<00:00,  1.65it/s, acc=0.984, loss=0.00943, val_acc=0.986, val_loss=0.0119]\n",
      "2: 100%|██████████| 175/175 [01:46<00:00,  1.64it/s, acc=1, loss=0.003, val_acc=0.988, val_loss=0.00996]      \n",
      "3: 100%|██████████| 175/175 [01:46<00:00,  1.64it/s, acc=1, loss=0.00149, val_acc=0.987, val_loss=0.00966]    \n"
     ]
    }
   ],
   "source": [
    "with tf.Session() as sess:\n",
    "    init.run()\n",
    "    \n",
    "    for epoch in range(3):\n",
    "        idxs = np.random.permutation(len(Xtr))\n",
    "        t = tqdm(np.array_split(idxs, len(Xtr)//BS))\n",
    "        \n",
    "        for idx in t:\n",
    "            xb, yb = Xtr[idx], ytr[idx]\n",
    "            _, b_loss, b_acc = sess.run([model.train_op, model.loss, model.accuracy], feed_dict={model.X: xb, model.y: yb})\n",
    "            \n",
    "            val_loss = 0.0\n",
    "            val_acc = 0.0\n",
    "            count = 0\n",
    "\n",
    "            for i in range(0, len(Xte), BS):\n",
    "                xb, yb = Xte[i:i+BS], yte[i:i+BS]\n",
    "                vloss, vacc = sess.run([model.loss, model.accuracy], feed_dict={model.X: xb, model.y: yb})\n",
    "\n",
    "                val_loss += vloss\n",
    "                val_acc += vacc\n",
    "\n",
    "                count += 1\n",
    "                \n",
    "            val_loss /= count\n",
    "            val_acc/= count\n",
    "            \n",
    "            t.set_description(str(epoch+1))\n",
    "            t.set_postfix(loss=b_loss, acc=b_acc, val_loss=val_loss, val_acc=val_acc)\n",
    "        \n",
    "            \n",
    "    saver.save(sess, \"save/logistic_r.ckpt\")"
   ]
  },
  {
   "cell_type": "markdown",
   "metadata": {},
   "source": [
    "### Test it on the test set for submission!"
   ]
  },
  {
   "cell_type": "code",
   "execution_count": 8,
   "metadata": {},
   "outputs": [],
   "source": [
    "import pandas as pd\n",
    "import itertools"
   ]
  },
  {
   "cell_type": "code",
   "execution_count": 9,
   "metadata": {},
   "outputs": [
    {
     "name": "stderr",
     "output_type": "stream",
     "text": [
      "/home/yq/miniconda3/envs/tf/lib/python3.6/site-packages/keras_applications/resnet50.py:263: UserWarning: The output shape of `ResNet50(include_top=False)` has been changed since Keras 2.2.0.\n",
      "  warnings.warn('The output shape of `ResNet50(include_top=False)` '\n"
     ]
    },
    {
     "name": "stdout",
     "output_type": "stream",
     "text": [
      "(12500, 100352)\n"
     ]
    }
   ],
   "source": [
    "# loading the test images and performing feature extraction\n",
    "# copy and paste from the above cell, yes this is messy\n",
    "\n",
    "paths = glob.glob(\"test1/*\")\n",
    "\n",
    "model = ResNet50(weights=\"imagenet\", include_top=False)\n",
    "\n",
    "features = []\n",
    "BS = 128\n",
    "for i in np.arange(0, len(paths), BS):\n",
    "    pb = paths[i:i+BS]\n",
    "    lb = labels[i:i+BS]\n",
    "    xb = []\n",
    "    \n",
    "    for xx in pb:\n",
    "        img = load_img(xx, target_size=(224, 224))\n",
    "        img = img_to_array(img)\n",
    "        img = np.expand_dims(img, axis=0)\n",
    "        img = imagenet_utils.preprocess_input(img)\n",
    "        xb.append(img)\n",
    "        \n",
    "    X = np.vstack(xb)\n",
    "    feature = model.predict(X, batch_size=BS)\n",
    "    feature = feature.reshape((feature.shape[0], -1))\n",
    "    \n",
    "    features.append(feature)\n",
    "\n",
    "features = np.vstack(features)    \n",
    "print(features.shape)"
   ]
  },
  {
   "cell_type": "code",
   "execution_count": 15,
   "metadata": {},
   "outputs": [
    {
     "name": "stdout",
     "output_type": "stream",
     "text": [
      "INFO:tensorflow:Restoring parameters from save/logistic_r.ckpt\n"
     ]
    }
   ],
   "source": [
    "tf.reset_default_graph()\n",
    "\n",
    "model = LogisticRegression()\n",
    "saver = tf.train.Saver()\n",
    "init = tf.global_variables_initializer()\n",
    "\n",
    "with tf.Session() as sess:\n",
    "    init.run()\n",
    "    saver.restore(sess, \"save/logistic_r.ckpt\")\n",
    "    \n",
    "    preds = []\n",
    "    \n",
    "    for i in range(0, len(features), BS):\n",
    "        xb = features[i:i+BS]\n",
    "        pred = sess.run(model.predictions, feed_dict={model.X: xb})\n",
    "        pred = np.squeeze(pred, -1)\n",
    "        preds.append(pred)\n",
    "        \n",
    "preds = list(itertools.chain.from_iterable(preds))"
   ]
  },
  {
   "cell_type": "code",
   "execution_count": 16,
   "metadata": {},
   "outputs": [],
   "source": [
    "# writing it to csv file for submission\n",
    "\n",
    "df = pd.DataFrame({\"id\": np.arange(1, len(features)+1), \"label\": preds})\n",
    "df.to_csv(\"submission_lr.csv\", index=False)"
   ]
  },
  {
   "cell_type": "code",
   "execution_count": null,
   "metadata": {},
   "outputs": [],
   "source": []
  }
 ],
 "metadata": {
  "kernelspec": {
   "display_name": "Python 3",
   "language": "python",
   "name": "python3"
  },
  "language_info": {
   "codemirror_mode": {
    "name": "ipython",
    "version": 3
   },
   "file_extension": ".py",
   "mimetype": "text/x-python",
   "name": "python",
   "nbconvert_exporter": "python",
   "pygments_lexer": "ipython3",
   "version": "3.6.5"
  }
 },
 "nbformat": 4,
 "nbformat_minor": 2
}
