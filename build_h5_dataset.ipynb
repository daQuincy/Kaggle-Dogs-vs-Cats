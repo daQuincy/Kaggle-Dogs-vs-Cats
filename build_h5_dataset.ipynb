{
 "cells": [
  {
   "cell_type": "code",
   "execution_count": 1,
   "metadata": {},
   "outputs": [],
   "source": [
    "from sklearn.preprocessing import LabelEncoder\n",
    "from sklearn.model_selection import train_test_split\n",
    "\n",
    "from utils.aspectawareresize import AspectAwareResize as aar\n",
    "from utils.hdf5datasetwriter import HDF5DatasetWriter as hwrite\n",
    "\n",
    "import numpy as np\n",
    "import json\n",
    "import cv2\n",
    "import glob\n",
    "import os\n",
    "from tqdm import tqdm"
   ]
  },
  {
   "cell_type": "code",
   "execution_count": 2,
   "metadata": {},
   "outputs": [],
   "source": [
    "train_paths = glob.glob(\"train/*\")\n",
    "train_labels = [os.path.split(x)[-1].split(\".\")[0] for x in train_paths]"
   ]
  },
  {
   "cell_type": "code",
   "execution_count": 3,
   "metadata": {},
   "outputs": [
    {
     "name": "stdout",
     "output_type": "stream",
     "text": [
      "['train/cat.2819.jpg', 'train/cat.1718.jpg', 'train/dog.5434.jpg', 'train/dog.4114.jpg', 'train/dog.11682.jpg']\n",
      "['cat', 'cat', 'dog', 'dog', 'dog']\n"
     ]
    }
   ],
   "source": [
    "print(train_paths[:5])\n",
    "print(train_labels[:5])"
   ]
  },
  {
   "cell_type": "code",
   "execution_count": 4,
   "metadata": {},
   "outputs": [
    {
     "name": "stdout",
     "output_type": "stream",
     "text": [
      "(25000,)\n",
      "[0 0 1 1 1]\n"
     ]
    }
   ],
   "source": [
    "le = LabelEncoder()\n",
    "train_labels = le.fit_transform(train_labels)\n",
    "\n",
    "print(train_labels.shape)\n",
    "print(train_labels[:5])"
   ]
  },
  {
   "cell_type": "code",
   "execution_count": 5,
   "metadata": {},
   "outputs": [],
   "source": [
    "Ptr, Pte, ytr, yte = train_test_split(train_paths, train_labels, test_size=2500)\n",
    "Ptr, Pval, ytr, yval = train_test_split(Ptr, ytr, test_size=2500)"
   ]
  },
  {
   "cell_type": "code",
   "execution_count": 6,
   "metadata": {},
   "outputs": [
    {
     "name": "stderr",
     "output_type": "stream",
     "text": [
      "20000it [06:13, 53.48it/s]\n",
      "2500it [00:16, 148.99it/s]\n",
      "2500it [00:13, 180.06it/s]\n"
     ]
    }
   ],
   "source": [
    "datasets = [(\"train\", Ptr, ytr, \"hdf5/train.hdf5\"),\n",
    "           (\"val\", Pval, yval, \"hdf5/val.hdf5\"),\n",
    "           (\"test\", Pte, yte, \"hdf5/test.hdf5\")]\n",
    "aar = aar(256, 256)  # resize image and crop a (256, 256) patch from the centre\n",
    "R, G, B = [], [], []\n",
    "\n",
    "for (dtype, paths, labels, outputs) in datasets:\n",
    "    writer = hwrite((len(paths), 256, 256, 3), outputs)\n",
    "    \n",
    "    t = tqdm(zip(paths, labels))\n",
    "    for (path, label) in t:\n",
    "        image = cv2.imread(path)\n",
    "        image = aar.preprocess(image)\n",
    "        \n",
    "        if dtype == \"train\":\n",
    "            (b, g, r) = cv2.mean(image)[:3]\n",
    "            R.append(r)\n",
    "            G.append(g)\n",
    "            B.append(b)\n",
    "            \n",
    "        writer.add([image], [label])\n",
    "        \n",
    "    writer.close()"
   ]
  },
  {
   "cell_type": "code",
   "execution_count": 7,
   "metadata": {},
   "outputs": [],
   "source": [
    "M = {\"R\": np.mean(R), \"G\": np.mean(G), \"B\": np.mean(B)}\n",
    "f = open(\"rgb_means.json\", \"w\")\n",
    "f.write(json.dumps(M))\n",
    "f.close()"
   ]
  }
 ],
 "metadata": {
  "kernelspec": {
   "display_name": "Python 3",
   "language": "python",
   "name": "python3"
  },
  "language_info": {
   "codemirror_mode": {
    "name": "ipython",
    "version": 3
   },
   "file_extension": ".py",
   "mimetype": "text/x-python",
   "name": "python",
   "nbconvert_exporter": "python",
   "pygments_lexer": "ipython3",
   "version": "3.6.5"
  }
 },
 "nbformat": 4,
 "nbformat_minor": 2
}
